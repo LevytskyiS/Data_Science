{
 "cells": [
  {
   "cell_type": "code",
   "execution_count": 1,
   "id": "0c3a4d40-fadd-48b2-8200-b662d4b6dd7a",
   "metadata": {},
   "outputs": [],
   "source": [
    "import pandas as pd\n",
    "import numpy as np\n",
    "import matplotlib.pyplot as plt\n",
    "import seaborn as sns"
   ]
  },
  {
   "cell_type": "code",
   "execution_count": 2,
   "id": "cb782400-1e08-4371-a1ad-28b1bd0df414",
   "metadata": {},
   "outputs": [],
   "source": [
    "def h(X, W):\n",
    "    return np.dot(X, W)"
   ]
  },
  {
   "cell_type": "code",
   "execution_count": 3,
   "id": "cab6f444-156a-4806-be9c-53a1133a50d0",
   "metadata": {},
   "outputs": [],
   "source": [
    "def loss_function(X, Y, W):\n",
    "    m = X.shape[0]\n",
    "    return np.square(h(X, W) - Y).sum() / (2 * m)"
   ]
  },
  {
   "cell_type": "code",
   "execution_count": 4,
   "id": "0d340abb-e3d6-4bce-aca1-fc5ff407c3bd",
   "metadata": {},
   "outputs": [],
   "source": [
    "def grad_step(W, grad_w, learning_rate=0.001):\n",
    "    W = W - learning_rate * grad_w\n",
    "    return W"
   ]
  },
  {
   "cell_type": "code",
   "execution_count": 5,
   "id": "18d12304-a1f1-449e-a0ef-732c0ec2c3c3",
   "metadata": {},
   "outputs": [],
   "source": [
    "def grad(X, Y, W):\n",
    "    m = X.shape[0]\n",
    "    np.dot(X.T, (h(X, W) - Y)) / m\n",
    "    return np.dot(X.T, (h(X, W) - Y)) / m"
   ]
  },
  {
   "cell_type": "code",
   "execution_count": 6,
   "id": "4cef7e3d-f7af-4e88-8ec8-3b212a82a1c1",
   "metadata": {},
   "outputs": [],
   "source": [
    "def grad_descent(X, Y, W, num_iter=10000, learning_rate=0.001, epsilon=0.0000001):\n",
    "    loss = loss_function(X, Y, W)\n",
    "    loss_history = [loss]\n",
    "    for i in range(num_iter):\n",
    "        best = None\n",
    "        grad_w = grad(X, Y, W)\n",
    "        W = grad_step(W, grad_w, learning_rate=learning_rate)\n",
    "        loss = loss_function(X, Y, W)\n",
    "        if abs(loss - loss_history[-1]) < epsilon:\n",
    "            loss_history.append(loss)\n",
    "            best = grad_w\n",
    "            break\n",
    "        loss_history.append(loss)\n",
    "    return W, best, loss_history"
   ]
  },
  {
   "cell_type": "code",
   "execution_count": 9,
   "id": "1b252053-d713-4a13-a809-01ae18f6e99f",
   "metadata": {},
   "outputs": [],
   "source": [
    "df = pd.read_csv(\"Housing.csv\")"
   ]
  },
  {
   "cell_type": "code",
   "execution_count": 10,
   "id": "de0ee04e-4527-4d62-b323-daf83d34e7d1",
   "metadata": {},
   "outputs": [],
   "source": [
    "def normalize(value):\n",
    "    return (value - value.mean()) / value.std()"
   ]
  },
  {
   "cell_type": "code",
   "execution_count": 11,
   "id": "4e785905-0631-4e2a-875e-2ca6f2ca31c6",
   "metadata": {},
   "outputs": [],
   "source": [
    "normalized_table = pd.DataFrame()"
   ]
  },
  {
   "cell_type": "code",
   "execution_count": 12,
   "id": "18d0ac91-99c8-40ff-8cae-07fdef610dcc",
   "metadata": {},
   "outputs": [],
   "source": [
    "normalized_table[\"price\"] = normalize(df[\"price\"])\n",
    "normalized_table[\"area\"] = normalize(df[\"area\"])\n",
    "normalized_table[\"bedrooms\"] = normalize(df[\"bedrooms\"])\n",
    "normalized_table[\"bathrooms\"] = normalize(df[\"bathrooms\"])"
   ]
  },
  {
   "cell_type": "code",
   "execution_count": 13,
   "id": "9c34de13-757b-4958-bf42-7a7e1f07442e",
   "metadata": {},
   "outputs": [],
   "source": [
    "Y = normalized_table[\"price\"].values.reshape(-1, 1)\n",
    "X = normalized_table[[\"area\", \"bathrooms\", \"bedrooms\"]].values\n",
    "X = np.hstack((np.ones((X.shape[0], 1)), X))\n",
    "N = X.shape[1]\n",
    "W = np.linspace(0, 0, N).reshape((N, 1))"
   ]
  },
  {
   "cell_type": "code",
   "execution_count": 14,
   "id": "0e1e5a31-c6f8-4e19-9252-43a404e88ebb",
   "metadata": {},
   "outputs": [
    {
     "name": "stdout",
     "output_type": "stream",
     "text": [
      "Best values: [[ 6.19280366e-17]\n",
      " [-6.74033514e-03]\n",
      " [-4.72771123e-03]\n",
      " [ 5.66844067e-03]]\n",
      "Loss func: 0.2560534283325343\n"
     ]
    }
   ],
   "source": [
    "W, best, loss_history = grad_descent(X, Y, W, 10000, learning_rate=0.001)\n",
    "loss = loss_history[-1]\n",
    "print(f\"Best values: {best}\")\n",
    "print(f\"Loss func: {loss}\")"
   ]
  },
  {
   "cell_type": "code",
   "execution_count": 15,
   "id": "9b594429-c242-4ae7-a100-d37a1b408c3d",
   "metadata": {},
   "outputs": [],
   "source": [
    "weights = np.dot(np.linalg.inv(np.dot(X.T, X)), np.dot(X.T, Y))\n",
    "analytical = loss_function(X, Y, weights)"
   ]
  },
  {
   "cell_type": "code",
   "execution_count": 16,
   "id": "487177ac-a530-4cf6-b2e9-15f6561f77e1",
   "metadata": {},
   "outputs": [
    {
     "name": "stdout",
     "output_type": "stream",
     "text": [
      "Best values: [[-1.11606416e-16]\n",
      " [ 4.39452085e-01]\n",
      " [ 3.72344423e-01]\n",
      " [ 1.60528660e-01]]\n",
      "Analytical value of loss func: 0.25598790065321353 and value of loss function 0.2560534283325343 \n"
     ]
    }
   ],
   "source": [
    "print(f\"Best values: {weights}\")\n",
    "print(f\"Analytical value of loss func: {analytical} and value of loss function {loss} \")"
   ]
  }
 ],
 "metadata": {
  "kernelspec": {
   "display_name": "anaconda-panel-2023.05-py310",
   "language": "python",
   "name": "conda-env-anaconda-panel-2023.05-py310-py"
  },
  "language_info": {
   "codemirror_mode": {
    "name": "ipython",
    "version": 3
   },
   "file_extension": ".py",
   "mimetype": "text/x-python",
   "name": "python",
   "nbconvert_exporter": "python",
   "pygments_lexer": "ipython3",
   "version": "3.11.3"
  }
 },
 "nbformat": 4,
 "nbformat_minor": 5
}

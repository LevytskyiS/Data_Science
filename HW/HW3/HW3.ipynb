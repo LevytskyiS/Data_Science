{
 "cells": [
  {
   "cell_type": "code",
   "execution_count": 4,
   "id": "ca894888-7dbb-47f6-a20e-e0936d0c7f70",
   "metadata": {},
   "outputs": [],
   "source": [
    "import random\n",
    "\n",
    "import pandas as pd\n",
    "import numpy as np\n",
    "import matplotlib.pyplot as plt\n",
    "from sklearn.linear_model import LinearRegression"
   ]
  },
  {
   "cell_type": "code",
   "execution_count": 5,
   "id": "902f6f5b-d1dd-4ec2-bb55-6922b310339f",
   "metadata": {},
   "outputs": [],
   "source": [
    "df = pd.read_csv(\"Housing.csv\")"
   ]
  },
  {
   "cell_type": "code",
   "execution_count": 6,
   "id": "fe852410-ff26-45dc-b859-61ad3ee590f8",
   "metadata": {},
   "outputs": [],
   "source": [
    "def cost(y: np.array, h: np.array) -> float:\n",
    "    return np.mean((h - y) ** 2) / 2"
   ]
  },
  {
   "cell_type": "code",
   "execution_count": 43,
   "id": "59f780bf-821e-4413-b0ca-d246faf2e90d",
   "metadata": {},
   "outputs": [],
   "source": [
    "class LinearRegressionM:\n",
    "    def __init__(\n",
    "        self, lr: float = 0.001, thr: float = 0.00001, n_epochs: int = 1000\n",
    "    ) -> None:\n",
    "        self.lr = lr\n",
    "        self.thr = thr\n",
    "        self.n_epochs = n_epochs\n",
    "        self.w = np.array(\n",
    "            [random.uniform(-5, 5), random.uniform(-5, 5), random.uniform(-5, 5)]\n",
    "        )\n",
    "        print(f\"Init w: {self.w}\")\n",
    "\n",
    "    def predict(self, X: list) -> list:\n",
    "        return self.w @ X.T\n",
    "\n",
    "    def update_w(self, X: np.array, y: np.array):\n",
    "        m = len(y)\n",
    "        h = self.predict(X)\n",
    "        self.w -= self.lr / m * X.T @ (h - y)\n",
    "\n",
    "    def fit(self, X: np.array, y: np.array):\n",
    "        last_cost = 1000000\n",
    "        for i in range(self.n_epochs):\n",
    "            self.update_w(X, y)\n",
    "            new_cost = cost(y, self.predict(X))\n",
    "            # print(f\"{i}, {self.w}, {new_cost}\")\n",
    "            if last_cost - new_cost < self.thr:\n",
    "                print(f\"{i}, {self.w}, {new_cost}\")\n",
    "                break\n",
    "            last_cost = new_cost"
   ]
  },
  {
   "cell_type": "code",
   "execution_count": 44,
   "id": "ba9086b0-3a4b-450f-a522-18aaf1a8a987",
   "metadata": {},
   "outputs": [],
   "source": [
    "def normalization(data):\n",
    "    mean = np.mean(data)\n",
    "    value_range = np.max(data) - np.min(data)\n",
    "    result = []\n",
    "    for x in data:\n",
    "        norm_x = (x - mean) / value_range\n",
    "        result.append(norm_x)\n",
    "    return result"
   ]
  },
  {
   "cell_type": "code",
   "execution_count": 45,
   "id": "7f19a8b9-1f7c-4f08-8b05-34e04636f1f4",
   "metadata": {},
   "outputs": [],
   "source": [
    "norm_df = pd.DataFrame()\n",
    "norm_df[\"price\"] = normalization(df.price)\n",
    "norm_df[\"area\"] = normalization(df.area)\n",
    "norm_df[\"bedrooms\"] = normalization(df.bedrooms)\n",
    "norm_df[\"bathrooms\"] = normalization(df.bathrooms)"
   ]
  },
  {
   "cell_type": "code",
   "execution_count": 46,
   "id": "db9473b4-c451-475b-b7d3-b8d6ff216929",
   "metadata": {},
   "outputs": [],
   "source": [
    "X = np.array([norm_df.area, norm_df.bedrooms, norm_df.bathrooms]).T\n",
    "y = np.array(norm_df.price)"
   ]
  },
  {
   "cell_type": "code",
   "execution_count": 47,
   "id": "3fc7a765-e222-44be-a3db-45852ec90a25",
   "metadata": {},
   "outputs": [
    {
     "name": "stdout",
     "output_type": "stream",
     "text": [
      "Init w: [-0.41847423  4.01919777  1.27489343]\n",
      "592, [-0.2142269   2.19049132  0.33537702], 0.051132269315391\n"
     ]
    }
   ],
   "source": [
    "linear_regression = LinearRegressionM(lr=0.05, thr=0.0001, n_epochs=10000)\n",
    "linear_regression.fit(X, y)"
   ]
  },
  {
   "cell_type": "code",
   "execution_count": 49,
   "id": "26be77c5-bbf4-4fc4-94dc-9720eb04a1b8",
   "metadata": {},
   "outputs": [
    {
     "name": "stdout",
     "output_type": "stream",
     "text": [
      "7.014204135081996e-17\n",
      "[0.47714269 0.17611257 0.36001286]\n",
      "0.006713405108514905\n"
     ]
    }
   ],
   "source": [
    "reg = LinearRegression().fit(X, y)\n",
    "\n",
    "print(reg.intercept_)\n",
    "print(reg.coef_)\n",
    "print(cost(y, reg.predict(X)))"
   ]
  }
 ],
 "metadata": {
  "kernelspec": {
   "display_name": "anaconda-panel-2023.05-py310",
   "language": "python",
   "name": "conda-env-anaconda-panel-2023.05-py310-py"
  },
  "language_info": {
   "codemirror_mode": {
    "name": "ipython",
    "version": 3
   },
   "file_extension": ".py",
   "mimetype": "text/x-python",
   "name": "python",
   "nbconvert_exporter": "python",
   "pygments_lexer": "ipython3",
   "version": "3.11.3"
  }
 },
 "nbformat": 4,
 "nbformat_minor": 5
}

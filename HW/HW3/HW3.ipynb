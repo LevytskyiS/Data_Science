{
 "cells": [
  {
   "cell_type": "code",
   "execution_count": 2,
   "id": "186623a7-ecb4-461e-a1b3-faa5f2b2e93f",
   "metadata": {},
   "outputs": [],
   "source": [
    "import random\n",
    "\n",
    "import pandas as pd\n",
    "import numpy as np"
   ]
  },
  {
   "cell_type": "code",
   "execution_count": 3,
   "id": "082c1891-fd01-49b2-8c43-fad838cda5d4",
   "metadata": {},
   "outputs": [],
   "source": [
    "df = pd.read_csv(\"Housing.csv\")"
   ]
  },
  {
   "cell_type": "code",
   "execution_count": 4,
   "id": "292843b2-a843-43a7-b1ed-360b21f95f47",
   "metadata": {},
   "outputs": [],
   "source": [
    "def cost(y: np.array, h: np.array) -> float:\n",
    "    return np.mean((h - y) ** 2) / 2"
   ]
  },
  {
   "cell_type": "code",
   "execution_count": 5,
   "id": "ec0baa84-ef35-4829-ae8e-faff11fa9f72",
   "metadata": {},
   "outputs": [],
   "source": [
    "class LinearRegressionM:\n",
    "    def __init__(\n",
    "        self, lr: float = 0.001, thr: float = 0.00001, n_epochs: int = 1000\n",
    "    ) -> None:\n",
    "        self.lr = lr\n",
    "        self.thr = thr\n",
    "        self.n_epochs = n_epochs\n",
    "        self.w = np.array(\n",
    "            [random.uniform(-5, 5), random.uniform(-5, 5), random.uniform(-5, 5)]\n",
    "        )\n",
    "        print(f\"Init w: {self.w}\")\n",
    "\n",
    "    def predict(self, X: list) -> list:\n",
    "        return self.w @ X.T\n",
    "\n",
    "    def update_w(self, X: np.array, y: np.array):\n",
    "        m = len(y)\n",
    "        h = self.predict(X)\n",
    "        self.w -= self.lr / m * X.T @ (h - y)\n",
    "\n",
    "    def fit(self, X: np.array, y: np.array):\n",
    "        last_cost = 1000000\n",
    "        for i in range(self.n_epochs):\n",
    "            self.update_w(X, y)\n",
    "            new_cost = cost(y, self.predict(X))\n",
    "            if last_cost - new_cost < self.thr:\n",
    "                print(\n",
    "                    f\"Ітерація # {i}, ваги: {self.w}, мінімальне значення cost функції: {new_cost}\"\n",
    "                )\n",
    "                break\n",
    "            last_cost = new_cost"
   ]
  },
  {
   "cell_type": "code",
   "execution_count": 6,
   "id": "e7163995-2baf-49a6-9b82-7d938943c776",
   "metadata": {},
   "outputs": [],
   "source": [
    "def normalization(data):\n",
    "    mean = np.mean(data)\n",
    "    value_range = np.max(data) - np.min(data)\n",
    "    result = []\n",
    "    for x in data:\n",
    "        norm_x = (x - mean) / value_range\n",
    "        result.append(norm_x)\n",
    "    return result"
   ]
  },
  {
   "cell_type": "code",
   "execution_count": 7,
   "id": "dc0c2a2a-254d-4c1c-ac89-eda7a61cf29e",
   "metadata": {},
   "outputs": [],
   "source": [
    "norm_df = pd.DataFrame()\n",
    "norm_df[\"price\"] = normalization(df.price)\n",
    "norm_df[\"area\"] = normalization(df.area)\n",
    "norm_df[\"bedrooms\"] = normalization(df.bedrooms)\n",
    "norm_df[\"bathrooms\"] = normalization(df.bathrooms)"
   ]
  },
  {
   "cell_type": "code",
   "execution_count": 8,
   "id": "81372f8a-799d-4e9b-8698-4ef4544992b8",
   "metadata": {},
   "outputs": [],
   "source": [
    "X = np.array([norm_df.area, norm_df.bedrooms, norm_df.bathrooms]).T\n",
    "y = np.array(norm_df.price)"
   ]
  },
  {
   "cell_type": "code",
   "execution_count": 9,
   "id": "9c26b68c-d5b3-4e70-b7e8-e50a6bf8b507",
   "metadata": {},
   "outputs": [
    {
     "name": "stdout",
     "output_type": "stream",
     "text": [
      "Init w: [ 2.21884474 -0.70960542  4.89096109]\n",
      "Ітерація # 740, ваги: [ 1.0063584  -0.93275064  2.09957842], мінімальне значення cost функції: 0.05025227552715438\n"
     ]
    }
   ],
   "source": [
    "linear_regression = LinearRegressionM(lr=0.05, thr=0.0001, n_epochs=10000)\n",
    "linear_regression.fit(X, y)"
   ]
  },
  {
   "cell_type": "code",
   "execution_count": 10,
   "id": "b512599b-6b7f-471d-b229-d11ff2dd6b8f",
   "metadata": {},
   "outputs": [],
   "source": [
    "# Аналітичне рішення\n",
    "def h(X, W):\n",
    "    return np.dot(X, W)"
   ]
  },
  {
   "cell_type": "code",
   "execution_count": 11,
   "id": "b6183797-eb10-40e9-bd27-408bf8626572",
   "metadata": {},
   "outputs": [],
   "source": [
    "def loss_function(X, Y, W):\n",
    "    m = X.shape[0]\n",
    "    return np.square(h(X, W) - Y).sum() / (2 * m)"
   ]
  },
  {
   "cell_type": "code",
   "execution_count": 12,
   "id": "9db82b1d-012d-4b96-82bc-3930e9b30738",
   "metadata": {},
   "outputs": [
    {
     "name": "stdout",
     "output_type": "stream",
     "text": [
      "Значення cost/loss функції при аналітичному рішенні: 0.05025227552715438\n"
     ]
    }
   ],
   "source": [
    "weights = linear_regression.w\n",
    "analytical = loss_function(X, y, weights)\n",
    "print(f\"Значення cost/loss функції при аналітичному рішенні: {analytical}\")\n"
   ]
  }
 ],
 "metadata": {
  "kernelspec": {
   "display_name": "anaconda-panel-2023.05-py310",
   "language": "python",
   "name": "conda-env-anaconda-panel-2023.05-py310-py"
  },
  "language_info": {
   "codemirror_mode": {
    "name": "ipython",
    "version": 3
   },
   "file_extension": ".py",
   "mimetype": "text/x-python",
   "name": "python",
   "nbconvert_exporter": "python",
   "pygments_lexer": "ipython3",
   "version": "3.11.3"
  }
 },
 "nbformat": 4,
 "nbformat_minor": 5
}

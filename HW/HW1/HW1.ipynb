{
 "cells": [
  {
   "cell_type": "code",
   "execution_count": 49,
   "id": "00e3669f-e7af-448a-b318-7db767b00cea",
   "metadata": {},
   "outputs": [],
   "source": [
    "import random"
   ]
  },
  {
   "cell_type": "code",
   "execution_count": 50,
   "id": "186216f2-16ca-4ee1-b26d-f8d9fa1d4dda",
   "metadata": {},
   "outputs": [],
   "source": [
    "import numpy as np"
   ]
  },
  {
   "cell_type": "code",
   "execution_count": 71,
   "id": "8a443a40-6f8e-4258-a8ae-17f6f2c3c68c",
   "metadata": {},
   "outputs": [],
   "source": [
    "# Task 1\n",
    "a = np.random.randint(10, size=10)\n",
    "b = np.array([0, 1, 2, 3, 4, 5, 6, 7, 8, 9])"
   ]
  },
  {
   "cell_type": "code",
   "execution_count": 72,
   "id": "335054ca-661b-4e81-be55-9518c149cb8d",
   "metadata": {},
   "outputs": [
    {
     "data": {
      "text/plain": [
       "array([2, 8, 5, 6, 8, 9, 6, 1, 6, 7])"
      ]
     },
     "execution_count": 72,
     "metadata": {},
     "output_type": "execute_result"
    }
   ],
   "source": [
    "a"
   ]
  },
  {
   "cell_type": "code",
   "execution_count": 73,
   "id": "6ee6f0bd-7f33-4eeb-b9d9-feb061482ce7",
   "metadata": {},
   "outputs": [
    {
     "data": {
      "text/plain": [
       "array([0, 1, 2, 3, 4, 5, 6, 7, 8, 9])"
      ]
     },
     "execution_count": 73,
     "metadata": {},
     "output_type": "execute_result"
    }
   ],
   "source": [
    "b"
   ]
  },
  {
   "cell_type": "code",
   "execution_count": 53,
   "id": "7398b08d-ff5d-4861-909b-6af23bde9ffd",
   "metadata": {},
   "outputs": [],
   "source": [
    "# Task 2\n",
    "matrix_1 = np.array([[0] * 3] * 3)"
   ]
  },
  {
   "cell_type": "code",
   "execution_count": 54,
   "id": "d1918d2c-919f-4fd6-888f-13e42b090631",
   "metadata": {},
   "outputs": [
    {
     "data": {
      "text/plain": [
       "array([[0, 0, 0],\n",
       "       [0, 0, 0],\n",
       "       [0, 0, 0]])"
      ]
     },
     "execution_count": 54,
     "metadata": {},
     "output_type": "execute_result"
    }
   ],
   "source": [
    "matrix_1"
   ]
  },
  {
   "cell_type": "code",
   "execution_count": 66,
   "id": "012bbe92-e8f1-410c-a368-3422c44204dc",
   "metadata": {},
   "outputs": [],
   "source": [
    "# Task 3\n",
    "matrix_2 = np.random.randint(1, 10, size=(5, 5))"
   ]
  },
  {
   "cell_type": "code",
   "execution_count": 67,
   "id": "f2ba96f1-3e09-48a5-9723-24d55d7bf7cf",
   "metadata": {},
   "outputs": [
    {
     "data": {
      "text/plain": [
       "array([[7, 5, 6, 8, 1],\n",
       "       [2, 7, 8, 4, 4],\n",
       "       [3, 5, 6, 9, 9],\n",
       "       [9, 8, 1, 2, 1],\n",
       "       [5, 3, 8, 9, 6]])"
      ]
     },
     "execution_count": 67,
     "metadata": {},
     "output_type": "execute_result"
    }
   ],
   "source": [
    "matrix_2"
   ]
  },
  {
   "cell_type": "code",
   "execution_count": 64,
   "id": "4136660c-8432-4824-a418-b6e657f4f313",
   "metadata": {},
   "outputs": [],
   "source": [
    "# Task 4\n",
    "matrix_3 = np.random.rand(4, 4)"
   ]
  },
  {
   "cell_type": "code",
   "execution_count": 65,
   "id": "fd7a4532-7525-4918-8f51-d19fddcd0b44",
   "metadata": {},
   "outputs": [
    {
     "data": {
      "text/plain": [
       "array([[0.67405889, 0.90936621, 0.40629583, 0.91703797],\n",
       "       [0.65482098, 0.88032633, 0.95114619, 0.63703258],\n",
       "       [0.32417158, 0.28811092, 0.08304635, 0.21398965],\n",
       "       [0.42913324, 0.4005845 , 0.67657058, 0.10650645]])"
      ]
     },
     "execution_count": 65,
     "metadata": {},
     "output_type": "execute_result"
    }
   ],
   "source": [
    "matrix_3"
   ]
  },
  {
   "cell_type": "code",
   "execution_count": 75,
   "id": "ff96401d-dc96-4900-b4a2-6768ba78c3f0",
   "metadata": {},
   "outputs": [],
   "source": [
    "# Task 5\n",
    "u = np.random.randint(10, size=5)\n",
    "j = np.random.randint(10, size=5)"
   ]
  },
  {
   "cell_type": "code",
   "execution_count": 103,
   "id": "432ecb70-6f23-42ae-8d07-83038f3e07ca",
   "metadata": {},
   "outputs": [
    {
     "data": {
      "text/plain": [
       "array([1, 4, 2, 3, 4])"
      ]
     },
     "execution_count": 103,
     "metadata": {},
     "output_type": "execute_result"
    }
   ],
   "source": [
    "u"
   ]
  },
  {
   "cell_type": "code",
   "execution_count": 104,
   "id": "24a675d2-9a77-496a-99ef-b58d6721c67b",
   "metadata": {},
   "outputs": [
    {
     "data": {
      "text/plain": [
       "array([0, 9, 9, 4, 4])"
      ]
     },
     "execution_count": 104,
     "metadata": {},
     "output_type": "execute_result"
    }
   ],
   "source": [
    "j"
   ]
  },
  {
   "cell_type": "code",
   "execution_count": 105,
   "id": "cc70007b-68d4-4417-aed1-edf174fe4b97",
   "metadata": {},
   "outputs": [],
   "source": [
    "res_1 = u + j\n",
    "res_2 = u - j\n",
    "res_3 = u * j"
   ]
  },
  {
   "cell_type": "code",
   "execution_count": 106,
   "id": "e755c777-985a-4d08-a5b0-e25faa159e8d",
   "metadata": {},
   "outputs": [
    {
     "data": {
      "text/plain": [
       "array([ 1, 13, 11,  7,  8])"
      ]
     },
     "execution_count": 106,
     "metadata": {},
     "output_type": "execute_result"
    }
   ],
   "source": [
    "res_1"
   ]
  },
  {
   "cell_type": "code",
   "execution_count": 107,
   "id": "dcf88706-1a51-4b66-bcb7-cf0fc2d09ae6",
   "metadata": {},
   "outputs": [
    {
     "data": {
      "text/plain": [
       "array([ 1, -5, -7, -1,  0])"
      ]
     },
     "execution_count": 107,
     "metadata": {},
     "output_type": "execute_result"
    }
   ],
   "source": [
    "res_2"
   ]
  },
  {
   "cell_type": "code",
   "execution_count": 108,
   "id": "2d134c8d-12b1-4d76-8713-7f51c96014f1",
   "metadata": {},
   "outputs": [
    {
     "data": {
      "text/plain": [
       "array([ 0, 36, 18, 12, 16])"
      ]
     },
     "execution_count": 108,
     "metadata": {},
     "output_type": "execute_result"
    }
   ],
   "source": [
    "res_3"
   ]
  },
  {
   "cell_type": "code",
   "execution_count": 100,
   "id": "bede6d76-9957-4c8d-abd9-974c3e67305f",
   "metadata": {},
   "outputs": [],
   "source": [
    "# Task 6\n",
    "w = np.random.randint(10, size=7)\n",
    "e = np.random.randint(10, size=7)\n",
    "\n",
    "res_7 = np.dot(w, e)"
   ]
  },
  {
   "cell_type": "code",
   "execution_count": 85,
   "id": "ad2a0daf-aece-44f0-80f7-ee7ec39edf05",
   "metadata": {},
   "outputs": [
    {
     "data": {
      "text/plain": [
       "150"
      ]
     },
     "execution_count": 85,
     "metadata": {},
     "output_type": "execute_result"
    }
   ],
   "source": [
    "\n",
    "res_7"
   ]
  },
  {
   "cell_type": "code",
   "execution_count": 90,
   "id": "81d061d6-78e2-4f66-9183-ac212ef42853",
   "metadata": {},
   "outputs": [],
   "source": [
    "# Task 7\n",
    "matrix_4 = np.random.randint(1, 10, size=(2, 2)).reshape(4, 1)\n",
    "matrix_5 = np.random.randint(1, 10, size=(3, 3)).reshape(1, 9)\n",
    "res_8 = np.dot(matrix_4, matrix_5)"
   ]
  },
  {
   "cell_type": "code",
   "execution_count": 91,
   "id": "3d43c065-bf24-4086-94ba-b33fc466dee3",
   "metadata": {},
   "outputs": [
    {
     "data": {
      "text/plain": [
       "array([[ 4,  8,  4,  8, 10, 16,  6,  4, 18],\n",
       "       [16, 32, 16, 32, 40, 64, 24, 16, 72],\n",
       "       [ 6, 12,  6, 12, 15, 24,  9,  6, 27],\n",
       "       [10, 20, 10, 20, 25, 40, 15, 10, 45]])"
      ]
     },
     "execution_count": 91,
     "metadata": {},
     "output_type": "execute_result"
    }
   ],
   "source": [
    "res_8"
   ]
  },
  {
   "cell_type": "code",
   "execution_count": 88,
   "id": "042ac0fe-eb31-40d3-a3c4-9c67d9d89f98",
   "metadata": {},
   "outputs": [],
   "source": [
    "# Task 8\n",
    "matrix_6 = np.random.randint(1, 10, size=(3, 3))\n",
    "matrix_6_inv = np.linalg.inv(matrix_6)"
   ]
  },
  {
   "cell_type": "code",
   "execution_count": 89,
   "id": "aac53fb5-9ae4-4cac-8a34-4b48b9ee172d",
   "metadata": {},
   "outputs": [
    {
     "data": {
      "text/plain": [
       "array([[ 0.26693227, -0.0438247 , -0.02788845],\n",
       "       [ 0.10358566, -0.09163347,  0.12350598],\n",
       "       [-0.21912351,  0.15537849,  0.00796813]])"
      ]
     },
     "execution_count": 89,
     "metadata": {},
     "output_type": "execute_result"
    }
   ],
   "source": [
    "matrix_6_inv"
   ]
  },
  {
   "cell_type": "code",
   "execution_count": 92,
   "id": "ba1c2541-2575-4fad-a93b-3df069005948",
   "metadata": {},
   "outputs": [],
   "source": [
    "# Task 9\n",
    "matrix_7_T = np.random.rand(4, 4).T"
   ]
  },
  {
   "cell_type": "code",
   "execution_count": 93,
   "id": "453fa9d9-4c63-4c3e-aa03-a50e62f015c2",
   "metadata": {},
   "outputs": [
    {
     "data": {
      "text/plain": [
       "array([[0.42897477, 0.14339276, 0.98120783, 0.82601768],\n",
       "       [0.32280887, 0.00101107, 0.18341815, 0.18796541],\n",
       "       [0.88017461, 0.19163807, 0.55552504, 0.88486517],\n",
       "       [0.73669366, 0.12092143, 0.42594294, 0.01426258]])"
      ]
     },
     "execution_count": 93,
     "metadata": {},
     "output_type": "execute_result"
    }
   ],
   "source": [
    "matrix_7_T"
   ]
  },
  {
   "cell_type": "code",
   "execution_count": 94,
   "id": "5eed9c44-ce3c-470c-b43d-80383936dc9c",
   "metadata": {},
   "outputs": [],
   "source": [
    "# Task 10\n",
    "matrix_8 = np.random.randint(1, 10, size=(3, 4))\n",
    "r = np.random.randint(10, size=4)\n",
    "res_9 = matrix_8.dot(r)"
   ]
  },
  {
   "cell_type": "code",
   "execution_count": 95,
   "id": "3d99a30a-377a-4455-bd6d-f463cad77fea",
   "metadata": {},
   "outputs": [
    {
     "data": {
      "text/plain": [
       "array([31, 53, 18])"
      ]
     },
     "execution_count": 95,
     "metadata": {},
     "output_type": "execute_result"
    }
   ],
   "source": [
    "res_9"
   ]
  },
  {
   "cell_type": "code",
   "execution_count": 96,
   "id": "372ef5dd-f7fb-4db1-8a03-d212c07a503b",
   "metadata": {},
   "outputs": [],
   "source": [
    "# Task 11\n",
    "matrix_9 = np.random.rand(2, 3)\n",
    "t = np.random.rand(3)\n",
    "res_10 = matrix_9.dot(t)"
   ]
  },
  {
   "cell_type": "code",
   "execution_count": 97,
   "id": "b93aaadf-9ad2-43df-922f-cbe8335dc64f",
   "metadata": {},
   "outputs": [
    {
     "data": {
      "text/plain": [
       "array([0.28552111, 0.58852302])"
      ]
     },
     "execution_count": 97,
     "metadata": {},
     "output_type": "execute_result"
    }
   ],
   "source": [
    "res_10"
   ]
  },
  {
   "cell_type": "code",
   "execution_count": 113,
   "id": "e49d30fa-02d7-4c5f-aeba-e2cb512c2937",
   "metadata": {},
   "outputs": [],
   "source": [
    "# Task 12 \n",
    "matrix_10 = np.random.randint(1, 10, size=(2, 2))\n",
    "matrix_11 = np.random.randint(1, 10, size=(2, 2))\n",
    "res_11 = np.multiply(matrix_10, matrix_11)"
   ]
  },
  {
   "cell_type": "code",
   "execution_count": 114,
   "id": "060fdddf-1970-4b5b-84ee-e59fb459e171",
   "metadata": {},
   "outputs": [
    {
     "data": {
      "text/plain": [
       "array([[40,  9],\n",
       "       [42, 42]])"
      ]
     },
     "execution_count": 114,
     "metadata": {},
     "output_type": "execute_result"
    }
   ],
   "source": [
    "res_11"
   ]
  },
  {
   "cell_type": "code",
   "execution_count": 115,
   "id": "bb96e69a-678c-4577-94c8-dc733a9e50de",
   "metadata": {},
   "outputs": [],
   "source": [
    "# Task 13\n",
    "matrix_12 = np.random.randint(1, 10, size=(2, 2))\n",
    "matrix_13 = np.random.randint(1, 10, size=(2, 2))\n",
    "res_12 = np.dot(matrix_10, matrix_11)"
   ]
  },
  {
   "cell_type": "code",
   "execution_count": 116,
   "id": "034d680e-3864-4ccb-9b6c-cb3eab983dcd",
   "metadata": {},
   "outputs": [
    {
     "data": {
      "text/plain": [
       "array([[61, 45],\n",
       "       [72, 60]])"
      ]
     },
     "execution_count": 116,
     "metadata": {},
     "output_type": "execute_result"
    }
   ],
   "source": [
    "res_12"
   ]
  },
  {
   "cell_type": "code",
   "execution_count": 117,
   "id": "bf3d6fb0-1c12-4683-a6b5-31b8fb595b72",
   "metadata": {},
   "outputs": [],
   "source": [
    "# Task 14\n",
    "matrix_14 = np.random.randint(1, 100, size=(5, 5))\n",
    "res_13 = np.sum(matrix_14)"
   ]
  },
  {
   "cell_type": "code",
   "execution_count": 118,
   "id": "6c39604c-29e4-4393-8439-fc1c58ee37e1",
   "metadata": {},
   "outputs": [
    {
     "data": {
      "text/plain": [
       "1384"
      ]
     },
     "execution_count": 118,
     "metadata": {},
     "output_type": "execute_result"
    }
   ],
   "source": [
    "res_13"
   ]
  },
  {
   "cell_type": "code",
   "execution_count": 121,
   "id": "58b4f128-c2c3-4a66-9eab-36a1eaadef8d",
   "metadata": {},
   "outputs": [],
   "source": [
    "# Task 15\n",
    "matrix_15 = np.random.randint(1, 10, size=(4, 4))\n",
    "res_14 = matrix_15.max() - matrix_15.min()"
   ]
  },
  {
   "cell_type": "code",
   "execution_count": 122,
   "id": "fe5a8ec2-dd34-40cf-807d-0d7ed3e719c8",
   "metadata": {},
   "outputs": [
    {
     "data": {
      "text/plain": [
       "8"
      ]
     },
     "execution_count": 122,
     "metadata": {},
     "output_type": "execute_result"
    }
   ],
   "source": [
    "res_14"
   ]
  },
  {
   "cell_type": "code",
   "execution_count": 123,
   "id": "e2b493f7-87b2-43a1-a955-fcbe8036dc61",
   "metadata": {},
   "outputs": [],
   "source": [
    "# Task 16 \n",
    "matrix_16 = np.random.rand(3, 3)\n",
    "res_15 = np.sum(matrix_16, axis=1)"
   ]
  },
  {
   "cell_type": "code",
   "execution_count": 124,
   "id": "1b9eb251-d79e-43f3-a9f7-45acedcff96f",
   "metadata": {},
   "outputs": [
    {
     "data": {
      "text/plain": [
       "array([2.33208404, 1.07311334, 1.89267545])"
      ]
     },
     "execution_count": 124,
     "metadata": {},
     "output_type": "execute_result"
    }
   ],
   "source": [
    "res_15"
   ]
  },
  {
   "cell_type": "code",
   "execution_count": 125,
   "id": "06d2bfda-af1c-4594-a8c6-bb23974227cd",
   "metadata": {},
   "outputs": [],
   "source": [
    "# Task 17\n",
    "matrix_16 = np.random.randint(1, 10, size=(3, 4))**2"
   ]
  },
  {
   "cell_type": "code",
   "execution_count": 126,
   "id": "cafde626-d46d-49ca-be93-8282919c82c5",
   "metadata": {},
   "outputs": [
    {
     "data": {
      "text/plain": [
       "array([[36, 81, 36, 25],\n",
       "       [49, 64,  4, 36],\n",
       "       [ 1, 16,  4, 64]])"
      ]
     },
     "execution_count": 126,
     "metadata": {},
     "output_type": "execute_result"
    }
   ],
   "source": [
    "matrix_16"
   ]
  },
  {
   "cell_type": "code",
   "execution_count": null,
   "id": "999feafd-f6a0-41ed-bad5-c4fdde818382",
   "metadata": {},
   "outputs": [],
   "source": [
    "# Task 18\n"
   ]
  }
 ],
 "metadata": {
  "kernelspec": {
   "display_name": "anaconda-2022.05-py39",
   "language": "python",
   "name": "conda-env-anaconda-2022.05-py39-py"
  },
  "language_info": {
   "codemirror_mode": {
    "name": "ipython",
    "version": 3
   },
   "file_extension": ".py",
   "mimetype": "text/x-python",
   "name": "python",
   "nbconvert_exporter": "python",
   "pygments_lexer": "ipython3",
   "version": "3.9.12"
  }
 },
 "nbformat": 4,
 "nbformat_minor": 5
}

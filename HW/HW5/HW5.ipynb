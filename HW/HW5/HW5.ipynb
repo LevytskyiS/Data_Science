{
 "cells": [
  {
   "cell_type": "code",
   "execution_count": null,
   "id": "a4408810-424e-4714-b80c-25a62baf8575",
   "metadata": {},
   "outputs": [],
   "source": [
    "import os\n",
    "import pandas as pd\n",
    "from sklearn.svm import SVC\n",
    "from sklearn.ensemble import RandomForestClassifier\n",
    "from sklearn.metrics import accuracy_score\n",
    "from sklearn.model_selection import train_test_split"
   ]
  },
  {
   "cell_type": "code",
   "execution_count": null,
   "id": "093d90f0-8b7f-486a-a3c7-b5369df4f715",
   "metadata": {},
   "outputs": [],
   "source": [
    "data_folder = 'data'\n",
    "\n",
    "all_data = pd.DataFrame()\n",
    "\n",
    "for activity_folder in os.listdir(data_folder):\n",
    "    activity_path = os.path.join(data_folder, activity_folder)\n",
    "    if not os.path.isdir(activity_path):\n",
    "        continue\n",
    "    \n",
    "    for file_name in os.listdir(activity_path):\n",
    "        file_path = os.path.join(activity_path, file_name)\n",
    "        if not file_name.endswith('.csv'):\n",
    "            continue\n",
    "        \n",
    "        df = pd.read_csv(file_path)\n",
    "        \n",
    "        df['activity'] = activity_folder\n",
    "        \n",
    "        all_data = pd.concat([all_data, df], ignore_index=True)\n",
    "\n",
    "all_data = all_data.sample(frac=1).reset_index(drop=True)\n",
    "\n",
    "X = all_data.drop('activity', axis=1)\n",
    "y = all_data['activity']"
   ]
  },
  {
   "cell_type": "code",
   "execution_count": null,
   "id": "c4baa98c-00e5-4a24-a7f5-e38c6e9fcaf3",
   "metadata": {},
   "outputs": [],
   "source": [
    "X_train, X_test, y_train, y_test = train_test_split(X, y, test_size=0.2, random_state=42)"
   ]
  },
  {
   "cell_type": "code",
   "execution_count": null,
   "id": "8e1e7e36-5c28-4e2c-bcf3-00a70e25562e",
   "metadata": {},
   "outputs": [],
   "source": [
    "X_train['time_mean'] = X_train.mean(axis=1)\n",
    "X_test['time_mean'] = X_test.mean(axis=1)"
   ]
  },
  {
   "cell_type": "code",
   "execution_count": null,
   "id": "ff7e7e40-2c49-4ea4-a01d-41579495d90f",
   "metadata": {},
   "outputs": [],
   "source": [
    "svm_model = SVC()\n",
    "rf_model = RandomForestClassifier()"
   ]
  },
  {
   "cell_type": "code",
   "execution_count": null,
   "id": "a7914b1d-6bdd-41de-958d-ec67fd3215df",
   "metadata": {},
   "outputs": [],
   "source": [
    "svm_model.fit(X_train, y_train)"
   ]
  },
  {
   "cell_type": "code",
   "execution_count": null,
   "id": "893a6591-8cc5-41e9-940c-d12b95d57817",
   "metadata": {},
   "outputs": [],
   "source": [
    "rf_model.fit(X_train, y_train)"
   ]
  },
  {
   "cell_type": "code",
   "execution_count": null,
   "id": "544fd4b2-973c-4585-90fd-1a33353cb4e4",
   "metadata": {},
   "outputs": [],
   "source": [
    "svm_pred = svm_model.predict(X_test)"
   ]
  },
  {
   "cell_type": "code",
   "execution_count": null,
   "id": "d6b051f2-8cb1-4e1c-9f79-9be393e17853",
   "metadata": {},
   "outputs": [],
   "source": [
    "rf_pred = rf_model.predict(X_test)"
   ]
  },
  {
   "cell_type": "code",
   "execution_count": null,
   "id": "75dfac0b-2856-42cb-a65b-a8d667dd2f58",
   "metadata": {},
   "outputs": [],
   "source": [
    "svm_accuracy = accuracy_score(y_test, svm_pred)\n",
    "rf_accuracy = accuracy_score(y_test, rf_pred)\n",
    "\n",
    "print(\"Accuracy (SVM):\", svm_accuracy)\n",
    "print(\"Accuracy (Random Forest):\", rf_accuracy)"
   ]
  },
  {
   "cell_type": "code",
   "execution_count": null,
   "id": "c002f80c-104b-44c2-9f97-8051daf7c05f",
   "metadata": {},
   "outputs": [],
   "source": [
    "from sklearn.metrics import classification_report\n",
    "\n",
    "svm_report = classification_report(y_test, svm_pred)\n",
    "print(\"SVM Results:\")\n",
    "print(svm_report)\n",
    "\n",
    "rf_report = classification_report(y_test, rf_pred)\n",
    "print(\"Random Forest Results:\")\n",
    "print(rf_report)"
   ]
  }
 ],
 "metadata": {
  "kernelspec": {
   "display_name": "anaconda-panel-2023.05-py310",
   "language": "python",
   "name": "conda-env-anaconda-panel-2023.05-py310-py"
  },
  "language_info": {
   "codemirror_mode": {
    "name": "ipython",
    "version": 3
   },
   "file_extension": ".py",
   "mimetype": "text/x-python",
   "name": "python",
   "nbconvert_exporter": "python",
   "pygments_lexer": "ipython3",
   "version": "3.11.3"
  }
 },
 "nbformat": 4,
 "nbformat_minor": 5
}
